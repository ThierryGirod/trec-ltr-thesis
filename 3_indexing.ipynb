{
 "cells": [
  {
   "cell_type": "code",
   "execution_count": 2,
   "metadata": {},
   "outputs": [],
   "source": [
    "from solr import Solr\n",
    "from ltr.data import CorpusApi\n",
    "import json\n",
    "import requests\n"
   ]
  },
  {
   "cell_type": "code",
   "execution_count": 2,
   "metadata": {},
   "outputs": [
    {
     "name": "stdout",
     "output_type": "stream",
     "text": [
      "Deleting 'test' collection\n",
      "[('action', 'create'), ('name', 'test'), ('numShards', 1), ('replicationFactor', 1)]\n",
      "Creating 'test' collection\n",
      "{'responseHeader': {'status': 0, 'QTime': 1693}, 'success': {'ltrps-solr:8983_solr': {'responseHeader': {'status': 0, 'QTime': 960}, 'core': 'test_shard1_replica_n1'}}, 'warning': 'Using _default configset. Data driven schema functionality is enabled by default, which is NOT RECOMMENDED for production use. To turn it off: curl http://{host:port}/solr/test/config -d \\'{\"set-user-property\": {\"update.autoCreateFields\":\"false\"}}\\''}\n",
      "Del/Adding LTR QParser for test collection\n",
      "<Response [200]>\n",
      "{'responseHeader': {'status': 0, 'QTime': 688}, 'WARNING': 'This response format is experimental.  It is likely to change in the future.'}\n",
      "Adding LTR Doc Transformer for test collection\n",
      "{'responseHeader': {'status': 0, 'QTime': 681}, 'WARNING': 'This response format is experimental.  It is likely to change in the future.'}\n",
      "{'responseHeader': {'status': 0, 'QTime': 701}, 'WARNING': 'This response format is experimental.  It is likely to change in the future.'}\n"
     ]
    }
   ],
   "source": [
    "collectionName = 'test'\n",
    "Solr.createCollection(collectionName)\n",
    "Solr.enableLtr(collectionName)"
   ]
  },
  {
   "cell_type": "code",
   "execution_count": 3,
   "metadata": {},
   "outputs": [],
   "source": [
    "Solr.createTextField(collectionName, 'docid')\n",
    "Solr.createTextField(collectionName, 'url')\n",
    "Solr.createTextField(collectionName, 'title')\n",
    "Solr.createTextField(collectionName, 'headings')\n",
    "Solr.createTextField(collectionName, 'body')"
   ]
  },
  {
   "cell_type": "code",
   "execution_count": 4,
   "metadata": {},
   "outputs": [
    {
     "ename": "FileNotFoundError",
     "evalue": "[Errno 2] No such file or directory: '/home/ubuntu/trec-ltr-thesis/data/corpus/msmarco_v2_doc/msmarco_doc_41_processed.json'",
     "output_type": "error",
     "traceback": [
      "\u001b[0;31m---------------------------------------------------------------------------\u001b[0m",
      "\u001b[0;31mFileNotFoundError\u001b[0m                         Traceback (most recent call last)",
      "Cell \u001b[0;32mIn [4], line 3\u001b[0m\n\u001b[1;32m      1\u001b[0m \u001b[39mfor\u001b[39;00m file \u001b[39min\u001b[39;00m CorpusApi\u001b[39m.\u001b[39mgetCorpusFileByFile(processed \u001b[39m=\u001b[39m \u001b[39mTrue\u001b[39;00m):\n\u001b[0;32m----> 3\u001b[0m     \u001b[39mwith\u001b[39;00m \u001b[39mopen\u001b[39;49m(file, \u001b[39m'\u001b[39;49m\u001b[39mr\u001b[39;49m\u001b[39m'\u001b[39;49m) \u001b[39mas\u001b[39;00m jsonFile:\n\u001b[1;32m      4\u001b[0m         data \u001b[39m=\u001b[39m json\u001b[39m.\u001b[39mload(jsonFile)\n\u001b[1;32m      5\u001b[0m         \u001b[39mprint\u001b[39m(data)\n",
      "File \u001b[0;32m~/.local/lib/python3.10/site-packages/IPython/core/interactiveshell.py:282\u001b[0m, in \u001b[0;36m_modified_open\u001b[0;34m(file, *args, **kwargs)\u001b[0m\n\u001b[1;32m    275\u001b[0m \u001b[39mif\u001b[39;00m file \u001b[39min\u001b[39;00m {\u001b[39m0\u001b[39m, \u001b[39m1\u001b[39m, \u001b[39m2\u001b[39m}:\n\u001b[1;32m    276\u001b[0m     \u001b[39mraise\u001b[39;00m \u001b[39mValueError\u001b[39;00m(\n\u001b[1;32m    277\u001b[0m         \u001b[39mf\u001b[39m\u001b[39m\"\u001b[39m\u001b[39mIPython won\u001b[39m\u001b[39m'\u001b[39m\u001b[39mt let you open fd=\u001b[39m\u001b[39m{\u001b[39;00mfile\u001b[39m}\u001b[39;00m\u001b[39m by default \u001b[39m\u001b[39m\"\u001b[39m\n\u001b[1;32m    278\u001b[0m         \u001b[39m\"\u001b[39m\u001b[39mas it is likely to crash IPython. If you know what you are doing, \u001b[39m\u001b[39m\"\u001b[39m\n\u001b[1;32m    279\u001b[0m         \u001b[39m\"\u001b[39m\u001b[39myou can use builtins\u001b[39m\u001b[39m'\u001b[39m\u001b[39m open.\u001b[39m\u001b[39m\"\u001b[39m\n\u001b[1;32m    280\u001b[0m     )\n\u001b[0;32m--> 282\u001b[0m \u001b[39mreturn\u001b[39;00m io_open(file, \u001b[39m*\u001b[39;49margs, \u001b[39m*\u001b[39;49m\u001b[39m*\u001b[39;49mkwargs)\n",
      "\u001b[0;31mFileNotFoundError\u001b[0m: [Errno 2] No such file or directory: '/home/ubuntu/trec-ltr-thesis/data/corpus/msmarco_v2_doc/msmarco_doc_41_processed.json'"
     ]
    }
   ],
   "source": [
    "for file in CorpusApi.getCorpusFileByFile(processed = True):\n",
    "    \n",
    "    with open(file, 'r') as jsonFile:\n",
    "        data = json.load(jsonFile)\n",
    "        print(data)"
   ]
  }
 ],
 "metadata": {
  "kernelspec": {
   "display_name": "Python 3.8.9 64-bit",
   "language": "python",
   "name": "python3"
  },
  "language_info": {
   "codemirror_mode": {
    "name": "ipython",
    "version": 3
   },
   "file_extension": ".py",
   "mimetype": "text/x-python",
   "name": "python",
   "nbconvert_exporter": "python",
   "pygments_lexer": "ipython3",
   "version": "3.10.6"
  },
  "orig_nbformat": 4,
  "vscode": {
   "interpreter": {
    "hash": "31f2aee4e71d21fbe5cf8b01ff0e069b9275f58929596ceb00d14d90e3e16cd6"
   }
  }
 },
 "nbformat": 4,
 "nbformat_minor": 2
}
