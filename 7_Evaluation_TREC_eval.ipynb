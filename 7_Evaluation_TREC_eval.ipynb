{
 "cells": [
  {
   "cell_type": "code",
   "execution_count": null,
   "metadata": {},
   "outputs": [],
   "source": [
    "import requests\n",
    "import csv\n",
    "from ltr.data import CorpusApi, Config\n",
    "import numpy as np"
   ]
  },
  {
   "cell_type": "code",
   "execution_count": null,
   "metadata": {},
   "outputs": [],
   "source": [
    "queries = CorpusApi.getValidationQueriesAsDict()"
   ]
  },
  {
   "cell_type": "code",
   "execution_count": null,
   "metadata": {},
   "outputs": [],
   "source": [
    "for i, key in enumerate(list(queries.keys())[:]):\n",
    "    try:\n",
    "        # get query\n",
    "        query = queries[key]\n",
    "        \n",
    "        # get result from solr\n",
    "        request = {\n",
    "            \"fields\": \"id, score\",\n",
    "            \"limit\": 500,\n",
    "            \"params\": {\n",
    "                \"qf\": \"title headings body\",\n",
    "                \"defType\": \"dismax\",\n",
    "                \"q\": query\n",
    "            }\n",
    "        }\n",
    "        \n",
    "        response = requests.post(f'http://localhost:8983/solr/thesis-ltr/select', json=request)\n",
    "        \n",
    "        queryResult = [doc for doc in response.json()[\"response\"][\"docs\"]]\n",
    "        \n",
    "        # write resultfile for trec eval\n",
    "        with open('evaluation/bm25_eval.results', 'a') as file:\n",
    "            for j, doc in enumerate(queryResult):\n",
    "                line = \" \".join([str(key), \"Q0\", str(doc['id']), str(j + 1), str(doc['score']), \"STANDARD\"])\n",
    "                file.write(line)\n",
    "                file.write('\\n')\n",
    "        \n",
    "        print(f'Processed queries: {i + 1}/{len(list(queries.keys()))}')\n",
    "    except KeyError as err:\n",
    "        # ignore the queries that are not in the validation queries list\n",
    "        pass"
   ]
  }
 ],
 "metadata": {
  "kernelspec": {
   "display_name": "Python 3.10.6 64-bit",
   "language": "python",
   "name": "python3"
  },
  "language_info": {
   "codemirror_mode": {
    "name": "ipython",
    "version": 3
   },
   "file_extension": ".py",
   "mimetype": "text/x-python",
   "name": "python",
   "nbconvert_exporter": "python",
   "pygments_lexer": "ipython3",
   "version": "3.10.6"
  },
  "orig_nbformat": 4,
  "vscode": {
   "interpreter": {
    "hash": "31f2aee4e71d21fbe5cf8b01ff0e069b9275f58929596ceb00d14d90e3e16cd6"
   }
  }
 },
 "nbformat": 4,
 "nbformat_minor": 2
}
