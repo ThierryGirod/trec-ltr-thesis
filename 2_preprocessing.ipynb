{
 "cells": [
  {
   "cell_type": "code",
   "execution_count": 1,
   "metadata": {},
   "outputs": [],
   "source": [
    "from ltr.data import CorpusApi\n",
    "\n",
    "queries = CorpusApi.getDevQueriesAsDict()\n",
    "judgments = CorpusApi.getDevQrels()"
   ]
  },
  {
   "cell_type": "code",
   "execution_count": 2,
   "metadata": {},
   "outputs": [],
   "source": [
    "# Update qrels with query in text format\n",
    "for judgment in judgments:\n",
    "    judgment.query = queries[judgment.query]"
   ]
  },
  {
   "cell_type": "code",
   "execution_count": 4,
   "metadata": {},
   "outputs": [
    {
     "data": {
      "text/plain": [
       "{'url': 'http://www.thinkbabynames.com/meaning/0/Nora',\n",
       " 'title': 'Nora - Name Meaning, What does Nora mean?',\n",
       " 'headings': '♀\\nNora\\n\\n♀ Nora\\nWhat does Nora mean?\\nVariations\\nHow popular is Nora?\\nWhich version is better?\\nSimilar Names\\n',\n",
       " 'body': 'Nora - Name Meaning, What does Nora mean?\\n\\n\\n\\n\\n\\n\\n\\nHome > Nora\\n\\n♀ Nora\\n\\n\\nWhat does Nora mean?\\nNora ▲ as a girls\\' name is pronounced NOR-ah. It is of English, Greek and Latin origin, and the meaning of Nora is \"light; woman of honor\". Short form Eleanora (Greek) \"light\", Honora (Latin) \"woman of honor\", and Leonora. Also used as an independent name. In Scotland, Nora is often used as a feminine form of Norman. Nora is the heroine of Ibsen\\'s \"A Doll\\'s House\". Writer Nora Ephron; pop singer Norah Jones. Also form of Annora. Also form of Eleanor. Also form of Helen. Also Irish form of Honor.\\nSTARTS/ENDS WITH No-, -ra\\nASSOCIATED WITH greek, light, scotland, heroine\\nVariations\\nVARIANTS Lanora, Nonie, Noora, Norah ▲, Norella, Norelle, Norissa, Norry\\nSEE ALSO Noreen\\nALTERNATIVE FORMS VIA ELEANORA, HONORA, LEONORA Annora, Anora, Anorah, Lenora ▼, Leora▼, Onora, Ora▼\\nCREATIVE FORMS\\n(female)\\n(male)\\nMIDDLE NAME PAIRINGS\\nNora Isa (N.I.), ..\\nHow popular is Nora?\\nNora is a very popular first name for women (#266 out of 4276, Top 6%) and also a very popular last name for both adults and children (#20497 out of 150436, Top 14%). (2000 U.S. DEMOGRAPHICS)\\nNora reached its top rank of #28 in the U.S. in the year 2017, and is currently at #30. (TOP 2000 NAMES, 2018)\\nWhich version is better?\\nEleanor (#32 THE PREVIOUS YEAR), Eleanora (#1035), Helen (#413), Honor (#1919), Honora, Lanora, Lenora (#1218), Leonora, Leora (#1680), Nonie, Norah (#140), Noreen, Norman and Ora are the popular varying forms of Nora (#30). Usage of these relations of Nora was well-received among parents 108 years ago (MEDIAN #912) and has become significantly less since (#1364, 78.2% LESS USAGE), with versions like Leora becoming less fashionable. Eleanora, Nora and Norah are three of the more contemporarily stylish girl names among these.\\nSimilar Names\\nNora▲ is pronounced similarly to Nari, Neera, Nera, Neriya, Nira, Noura, Nura, Nuru and Nyree. Other suggested similar-sounding names are Adra, Aura, Bora, Clora, Cora▼, Cyra, Deora, Dora▼, Doura, Enora, Glora, Hera, Ira, Kera, Kora▲, Kyra▼, Lora▼, Lorra, Lura ▼, Mera, Moira, Mora, Myra, Nada, Naia, Nana, Nehora, Nena, Neola, Neta, Neva▼, Nia▲, Nika, Nina▼, Nita▼, Noa▲, Noe, Noel ▲, Nola, Nolan, Nona▼, Noni, Noola, Noor ▲, Norda, Nore, Norina, Norm, Norma▼, Norna, Norne, Nour, Nova▲, Nur, Nya ▼, Nyla▲, Nysa, Pera, Rora, Sera, Thora, Tora, Uira, Vera▼, Yara▲ and Zora. These names tend to be less frequently used than Nora.\\nSee names in meaning and etymology.\\n< Prev\\nNext >\\n[ Top]\\n\\n\\n\\n\\n',\n",
       " 'docid': 'msmarco_doc_09_1821119445'}"
      ]
     },
     "execution_count": 4,
     "metadata": {},
     "output_type": "execute_result"
    }
   ],
   "source": [
    "CorpusApi.getDocumentFromCorpus(judgments[1].docId)"
   ]
  }
 ],
 "metadata": {
  "kernelspec": {
   "display_name": "Python 3.10.4 64-bit",
   "language": "python",
   "name": "python3"
  },
  "language_info": {
   "codemirror_mode": {
    "name": "ipython",
    "version": 3
   },
   "file_extension": ".py",
   "mimetype": "text/x-python",
   "name": "python",
   "nbconvert_exporter": "python",
   "pygments_lexer": "ipython3",
   "version": "3.10.4"
  },
  "orig_nbformat": 4,
  "vscode": {
   "interpreter": {
    "hash": "31f2aee4e71d21fbe5cf8b01ff0e069b9275f58929596ceb00d14d90e3e16cd6"
   }
  }
 },
 "nbformat": 4,
 "nbformat_minor": 2
}
