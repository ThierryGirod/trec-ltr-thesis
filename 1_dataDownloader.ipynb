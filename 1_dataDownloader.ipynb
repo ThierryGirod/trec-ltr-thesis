{
 "cells": [
  {
   "attachments": {},
   "cell_type": "markdown",
   "metadata": {},
   "source": [
    "### __Download data from TREC__\n",
    "To download large files more quickly and reliably the use of [AzCopy](https://learn.microsoft.com/en-us/azure/storage/common/storage-use-azcopy-v10) is recommended.\n",
    "\n",
    "I used the installation guide from the following [link](https://www.thomasmaurer.ch/2019/05/how-to-install-azcopy-for-azure-storage/)."
   ]
  },
  {
   "cell_type": "code",
   "execution_count": null,
   "metadata": {},
   "outputs": [],
   "source": [
    "!wget https://aka.ms/downloadazcopy-v10-linux\n",
    "!tar -xvf downloadazcopy-v10-linux\n",
    "!sudo rm /usr/bin/azcopy\n",
    "!sudo cp ./azcopy_linux_amd64_*/azcopy /usr/bin/\n",
    "!sudo chmod 777 /usr/bin/azcopy\n",
    "!sudo rm -rf downloadazcopy-v10-linux\n",
    "!sudo rm -rf azcopy_linux_amd64_10.16.1"
   ]
  },
  {
   "attachments": {},
   "cell_type": "markdown",
   "metadata": {},
   "source": [
    "__Download corpus__"
   ]
  },
  {
   "cell_type": "code",
   "execution_count": null,
   "metadata": {},
   "outputs": [],
   "source": [
    "!azcopy copy https://msmarco.blob.core.windows.net/msmarcoranking/msmarco_v2_doc.tar data/corpus/msmarco_v2_doc.tar "
   ]
  },
  {
   "cell_type": "code",
   "execution_count": null,
   "metadata": {},
   "outputs": [],
   "source": [
    "!tar -xf data/corpus/msmarco_v2_doc.tar --directory data/corpus/\n",
    "!rm -rf data/corpus/msmarco_v2_doc.tar\n",
    "!gunzip data/corpus/msmarco_v2_doc/*.gz"
   ]
  },
  {
   "cell_type": "markdown",
   "metadata": {},
   "source": [
    "__Download train data__"
   ]
  },
  {
   "cell_type": "code",
   "execution_count": null,
   "metadata": {},
   "outputs": [],
   "source": [
    "!azcopy copy https://msmarco.blob.core.windows.net/msmarcoranking/docv2_train_queries.tsv data/train/docv2_train_queries.tsv "
   ]
  },
  {
   "cell_type": "code",
   "execution_count": null,
   "metadata": {},
   "outputs": [],
   "source": [
    "!azcopy copy https://msmarco.blob.core.windows.net/msmarcoranking/docv2_train_qrels.tsv data/train/docv2_train_qrels.tsv"
   ]
  },
  {
   "attachments": {},
   "cell_type": "markdown",
   "metadata": {},
   "source": [
    "__Download test data__"
   ]
  },
  {
   "cell_type": "code",
   "execution_count": null,
   "metadata": {},
   "outputs": [],
   "source": [
    "!curl https://trec.nist.gov/data/deep/2021.qrels.docs.final.txt --output data/validation/2021.qrels.docs.final.txt"
   ]
  },
  {
   "cell_type": "code",
   "execution_count": null,
   "metadata": {},
   "outputs": [],
   "source": [
    "!azcopy copy https://msmarco.blob.core.windows.net/msmarcoranking/2021_queries.tsv data/validation/2021_queries.tsv"
   ]
  }
 ],
 "metadata": {
  "kernelspec": {
   "display_name": "Python 3 (ipykernel)",
   "language": "python",
   "name": "python3"
  },
  "language_info": {
   "codemirror_mode": {
    "name": "ipython",
    "version": 3
   },
   "file_extension": ".py",
   "mimetype": "text/x-python",
   "name": "python",
   "nbconvert_exporter": "python",
   "pygments_lexer": "ipython3",
   "version": "3.10.6"
  },
  "vscode": {
   "interpreter": {
    "hash": "31f2aee4e71d21fbe5cf8b01ff0e069b9275f58929596ceb00d14d90e3e16cd6"
   }
  }
 },
 "nbformat": 4,
 "nbformat_minor": 4
}
