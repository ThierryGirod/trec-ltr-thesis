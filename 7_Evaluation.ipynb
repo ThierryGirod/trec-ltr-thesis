{
 "cells": [
  {
   "cell_type": "code",
   "execution_count": 1,
   "metadata": {},
   "outputs": [],
   "source": [
    "import requests\n",
    "import csv\n",
    "from ltr.data import CorpusApi, Config"
   ]
  },
  {
   "cell_type": "code",
   "execution_count": 2,
   "metadata": {},
   "outputs": [],
   "source": [
    "queries = CorpusApi.getValidationQueriesAsDict()"
   ]
  },
  {
   "cell_type": "code",
   "execution_count": 3,
   "metadata": {},
   "outputs": [],
   "source": [
    "evaluationMap = {}\n",
    "\n",
    "with open('data/validation/docv2_trec2020_qrels.txt', 'r') as txt:\n",
    "    txtReader = csv.reader(txt, delimiter=' ')\n",
    "    for line in txtReader:\n",
    "        queryMap = evaluationMap.get(line[0], {})\n",
    "        forwardIndexList = queryMap.get(line[3],[])\n",
    "        forwardIndexList.append(line[2])\n",
    "        queryMap[line[3]] = forwardIndexList\n",
    "        reverseIndexMap = queryMap.get('reverse', {})\n",
    "        reverseIndexMap[line[2]] = line[3]\n",
    "        queryMap['reverse'] = reverseIndexMap\n",
    "        \n",
    "        evaluationMap[line[0]] = queryMap\n",
    "        "
   ]
  },
  {
   "cell_type": "code",
   "execution_count": 4,
   "metadata": {},
   "outputs": [],
   "source": [
    "from typing import List\n",
    "\n",
    "\n",
    "def reciprocalRank(queryId: int, evalList: List) -> float:\n",
    "    \n",
    "    rank = 1\n",
    "    \n",
    "    lookupMap = evaluationMap[queryId].get('reverse')\n",
    "    \n",
    "    for docId in evalList:\n",
    "        v = lookupMap.get(docId)\n",
    "        if v is None or int(v) == 0:\n",
    "            rank += 1\n",
    "        else:\n",
    "            break\n",
    "\n",
    "    return 1/rank if rank <= 100 else 0\n",
    "    "
   ]
  },
  {
   "cell_type": "code",
   "execution_count": 5,
   "metadata": {},
   "outputs": [],
   "source": [
    "def averagePrecision(queryId: int, evalList: List) -> float:\n",
    "    \n",
    "    lookupMap = evaluationMap[queryId].get('reverse')\n",
    "    \n",
    "    foundDocs = 0\n",
    "    \n",
    "    sum = 0\n",
    "    \n",
    "    for i, docId in enumerate(evalList):\n",
    "        v = lookupMap.get(docId)\n",
    "        if v is not None and int(v) != 0:\n",
    "            foundDocs += 1\n",
    "            sum += (foundDocs / (i + 1))\n",
    "            \n",
    "    \n",
    "    return sum / len(evalList)"
   ]
  },
  {
   "cell_type": "code",
   "execution_count": 6,
   "metadata": {},
   "outputs": [
    {
     "ename": "JSONDecodeError",
     "evalue": "Expecting value: line 1 column 1 (char 0)",
     "output_type": "error",
     "traceback": [
      "\u001b[0;31m---------------------------------------------------------------------------\u001b[0m",
      "\u001b[0;31mJSONDecodeError\u001b[0m                           Traceback (most recent call last)",
      "Cell \u001b[0;32mIn [6], line 19\u001b[0m\n\u001b[1;32m      7\u001b[0m request \u001b[39m=\u001b[39m {\n\u001b[1;32m      8\u001b[0m     \u001b[39m\"\u001b[39m\u001b[39mfields\u001b[39m\u001b[39m\"\u001b[39m: \u001b[39m\"\u001b[39m\u001b[39mid\u001b[39m\u001b[39m\"\u001b[39m,\n\u001b[1;32m      9\u001b[0m     \u001b[39m\"\u001b[39m\u001b[39mlimit\u001b[39m\u001b[39m\"\u001b[39m: \u001b[39m100\u001b[39m,\n\u001b[0;32m   (...)\u001b[0m\n\u001b[1;32m     14\u001b[0m     }\n\u001b[1;32m     15\u001b[0m }\n\u001b[1;32m     17\u001b[0m response \u001b[39m=\u001b[39m requests\u001b[39m.\u001b[39mpost(\u001b[39mf\u001b[39m\u001b[39m'\u001b[39m\u001b[39mhttp://localhost:8983/solr/thesis-ltr/select\u001b[39m\u001b[39m'\u001b[39m, json\u001b[39m=\u001b[39mrequest)\n\u001b[0;32m---> 19\u001b[0m queryResult \u001b[39m=\u001b[39m [doc[\u001b[39m'\u001b[39m\u001b[39mid\u001b[39m\u001b[39m'\u001b[39m] \u001b[39mfor\u001b[39;00m doc \u001b[39min\u001b[39;00m response\u001b[39m.\u001b[39;49mjson()[\u001b[39m\"\u001b[39m\u001b[39mresponse\u001b[39m\u001b[39m\"\u001b[39m][\u001b[39m\"\u001b[39m\u001b[39mdocs\u001b[39m\u001b[39m\"\u001b[39m]]\n\u001b[1;32m     22\u001b[0m \u001b[39m# calculate metrics\u001b[39;00m\n\u001b[1;32m     23\u001b[0m \u001b[39m# Reciprocal Rank\u001b[39;00m\n\u001b[1;32m     24\u001b[0m rr \u001b[39m=\u001b[39m reciprocalRank(key, queryResult)\n",
      "File \u001b[0;32m/usr/lib/python3/dist-packages/requests/models.py:900\u001b[0m, in \u001b[0;36mResponse.json\u001b[0;34m(self, **kwargs)\u001b[0m\n\u001b[1;32m    894\u001b[0m         \u001b[39mexcept\u001b[39;00m \u001b[39mUnicodeDecodeError\u001b[39;00m:\n\u001b[1;32m    895\u001b[0m             \u001b[39m# Wrong UTF codec detected; usually because it's not UTF-8\u001b[39;00m\n\u001b[1;32m    896\u001b[0m             \u001b[39m# but some other 8-bit codec.  This is an RFC violation,\u001b[39;00m\n\u001b[1;32m    897\u001b[0m             \u001b[39m# and the server didn't bother to tell us what codec *was*\u001b[39;00m\n\u001b[1;32m    898\u001b[0m             \u001b[39m# used.\u001b[39;00m\n\u001b[1;32m    899\u001b[0m             \u001b[39mpass\u001b[39;00m\n\u001b[0;32m--> 900\u001b[0m \u001b[39mreturn\u001b[39;00m complexjson\u001b[39m.\u001b[39;49mloads(\u001b[39mself\u001b[39;49m\u001b[39m.\u001b[39;49mtext, \u001b[39m*\u001b[39;49m\u001b[39m*\u001b[39;49mkwargs)\n",
      "File \u001b[0;32m/usr/lib/python3.10/json/__init__.py:346\u001b[0m, in \u001b[0;36mloads\u001b[0;34m(s, cls, object_hook, parse_float, parse_int, parse_constant, object_pairs_hook, **kw)\u001b[0m\n\u001b[1;32m    341\u001b[0m     s \u001b[39m=\u001b[39m s\u001b[39m.\u001b[39mdecode(detect_encoding(s), \u001b[39m'\u001b[39m\u001b[39msurrogatepass\u001b[39m\u001b[39m'\u001b[39m)\n\u001b[1;32m    343\u001b[0m \u001b[39mif\u001b[39;00m (\u001b[39mcls\u001b[39m \u001b[39mis\u001b[39;00m \u001b[39mNone\u001b[39;00m \u001b[39mand\u001b[39;00m object_hook \u001b[39mis\u001b[39;00m \u001b[39mNone\u001b[39;00m \u001b[39mand\u001b[39;00m\n\u001b[1;32m    344\u001b[0m         parse_int \u001b[39mis\u001b[39;00m \u001b[39mNone\u001b[39;00m \u001b[39mand\u001b[39;00m parse_float \u001b[39mis\u001b[39;00m \u001b[39mNone\u001b[39;00m \u001b[39mand\u001b[39;00m\n\u001b[1;32m    345\u001b[0m         parse_constant \u001b[39mis\u001b[39;00m \u001b[39mNone\u001b[39;00m \u001b[39mand\u001b[39;00m object_pairs_hook \u001b[39mis\u001b[39;00m \u001b[39mNone\u001b[39;00m \u001b[39mand\u001b[39;00m \u001b[39mnot\u001b[39;00m kw):\n\u001b[0;32m--> 346\u001b[0m     \u001b[39mreturn\u001b[39;00m _default_decoder\u001b[39m.\u001b[39;49mdecode(s)\n\u001b[1;32m    347\u001b[0m \u001b[39mif\u001b[39;00m \u001b[39mcls\u001b[39m \u001b[39mis\u001b[39;00m \u001b[39mNone\u001b[39;00m:\n\u001b[1;32m    348\u001b[0m     \u001b[39mcls\u001b[39m \u001b[39m=\u001b[39m JSONDecoder\n",
      "File \u001b[0;32m/usr/lib/python3.10/json/decoder.py:337\u001b[0m, in \u001b[0;36mJSONDecoder.decode\u001b[0;34m(self, s, _w)\u001b[0m\n\u001b[1;32m    332\u001b[0m \u001b[39mdef\u001b[39;00m \u001b[39mdecode\u001b[39m(\u001b[39mself\u001b[39m, s, _w\u001b[39m=\u001b[39mWHITESPACE\u001b[39m.\u001b[39mmatch):\n\u001b[1;32m    333\u001b[0m     \u001b[39m\"\"\"Return the Python representation of ``s`` (a ``str`` instance\u001b[39;00m\n\u001b[1;32m    334\u001b[0m \u001b[39m    containing a JSON document).\u001b[39;00m\n\u001b[1;32m    335\u001b[0m \n\u001b[1;32m    336\u001b[0m \u001b[39m    \"\"\"\u001b[39;00m\n\u001b[0;32m--> 337\u001b[0m     obj, end \u001b[39m=\u001b[39m \u001b[39mself\u001b[39;49m\u001b[39m.\u001b[39;49mraw_decode(s, idx\u001b[39m=\u001b[39;49m_w(s, \u001b[39m0\u001b[39;49m)\u001b[39m.\u001b[39;49mend())\n\u001b[1;32m    338\u001b[0m     end \u001b[39m=\u001b[39m _w(s, end)\u001b[39m.\u001b[39mend()\n\u001b[1;32m    339\u001b[0m     \u001b[39mif\u001b[39;00m end \u001b[39m!=\u001b[39m \u001b[39mlen\u001b[39m(s):\n",
      "File \u001b[0;32m/usr/lib/python3.10/json/decoder.py:355\u001b[0m, in \u001b[0;36mJSONDecoder.raw_decode\u001b[0;34m(self, s, idx)\u001b[0m\n\u001b[1;32m    353\u001b[0m     obj, end \u001b[39m=\u001b[39m \u001b[39mself\u001b[39m\u001b[39m.\u001b[39mscan_once(s, idx)\n\u001b[1;32m    354\u001b[0m \u001b[39mexcept\u001b[39;00m \u001b[39mStopIteration\u001b[39;00m \u001b[39mas\u001b[39;00m err:\n\u001b[0;32m--> 355\u001b[0m     \u001b[39mraise\u001b[39;00m JSONDecodeError(\u001b[39m\"\u001b[39m\u001b[39mExpecting value\u001b[39m\u001b[39m\"\u001b[39m, s, err\u001b[39m.\u001b[39mvalue) \u001b[39mfrom\u001b[39;00m \u001b[39mNone\u001b[39m\n\u001b[1;32m    356\u001b[0m \u001b[39mreturn\u001b[39;00m obj, end\n",
      "\u001b[0;31mJSONDecodeError\u001b[0m: Expecting value: line 1 column 1 (char 0)"
     ]
    }
   ],
   "source": [
    "for key in list(evaluationMap.keys())[:]:\n",
    "    try:\n",
    "        # get query\n",
    "        query = queries[key]\n",
    "        \n",
    "        # get result from solr\n",
    "        request = {\n",
    "            \"fields\": \"id\",\n",
    "            \"limit\": 100,\n",
    "            \"params\": {\n",
    "                \"qf\": \"title headings body\",\n",
    "                \"defType\": \"dismax\",\n",
    "                \"q\": query\n",
    "            }\n",
    "        }\n",
    "        \n",
    "        response = requests.post(f'http://localhost:8983/solr/thesis-ltr/select', json=request)\n",
    "        \n",
    "        queryResult = [doc['id'] for doc in response.json()[\"response\"][\"docs\"]]\n",
    "        \n",
    "        \n",
    "        # calculate metrics\n",
    "        # Reciprocal Rank\n",
    "        rr = reciprocalRank(key, queryResult)\n",
    "        evaluationMap[key]['rr'] = rr\n",
    "        print(f'RR: {rr}')\n",
    "        # Normalized Discounted Cumulative Gains (NDCG)\n",
    "        # Normalized Cumulative Gains (NCG)\n",
    "        # Average Precision (AP)\n",
    "        ap = averagePrecision(key, queryResult)\n",
    "        evaluationMap[key]['ap'] = ap\n",
    "        print(f'AP: {ap}')\n",
    "        \n",
    "        print(f'processed {key} query: {query}')\n",
    "    except KeyError as err:\n",
    "        # ignore the queries that are not in the validation queries list\n",
    "        pass"
   ]
  }
 ],
 "metadata": {
  "kernelspec": {
   "display_name": "Python 3.10.6 64-bit",
   "language": "python",
   "name": "python3"
  },
  "language_info": {
   "codemirror_mode": {
    "name": "ipython",
    "version": 3
   },
   "file_extension": ".py",
   "mimetype": "text/x-python",
   "name": "python",
   "nbconvert_exporter": "python",
   "pygments_lexer": "ipython3",
   "version": "3.10.6"
  },
  "orig_nbformat": 4,
  "vscode": {
   "interpreter": {
    "hash": "31f2aee4e71d21fbe5cf8b01ff0e069b9275f58929596ceb00d14d90e3e16cd6"
   }
  }
 },
 "nbformat": 4,
 "nbformat_minor": 2
}
