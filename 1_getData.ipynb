{
 "cells": [
  {
   "cell_type": "markdown",
   "metadata": {},
   "source": [
    "### __Requirements__\n",
    "-  ~200GB free disk space"
   ]
  },
  {
   "cell_type": "markdown",
   "metadata": {},
   "source": [
    "### __Download data from TREC__\n",
    "To download large files more quickly and reliably the use of [AzCopy](https://learn.microsoft.com/en-us/azure/storage/common/storage-use-azcopy-v10) is recommended.\n",
    "\n",
    "I used the installation guide under the following [link](https://www.thomasmaurer.ch/2019/05/how-to-install-azcopy-for-azure-storage/).\n",
    "\n",
    "__Download corpus__"
   ]
  },
  {
   "cell_type": "code",
   "execution_count": null,
   "metadata": {},
   "outputs": [],
   "source": [
    "!wget https://aka.ms/downloadazcopy-v10-linux\n",
    "!tar -xvf downloadazcopy-v10-linux\n",
    "!sudo rm /usr/bin/azcopy\n",
    "!sudo cp ./azcopy_linux_amd64_*/azcopy /usr/bin/\n",
    "!sudo chmod 777 /usr/bin/azcopy\n",
    "!sudo rm -rf downloadazcopy-v10-linux\n",
    "!sudo rm -rf azcopy_linux_amd64_10.16.1"
   ]
  },
  {
   "cell_type": "code",
   "execution_count": null,
   "metadata": {},
   "outputs": [],
   "source": [
    "!azcopy copy https://msmarco.blob.core.windows.net/msmarcoranking/msmarco_v2_doc.tar data/corpus/msmarco_v2_doc.tar "
   ]
  },
  {
   "cell_type": "code",
   "execution_count": null,
   "metadata": {},
   "outputs": [],
   "source": [
    "!tar -xf data/corpus/msmarco_v2_doc.tar --directory data/corpus/"
   ]
  },
  {
   "cell_type": "code",
   "execution_count": null,
   "metadata": {},
   "outputs": [],
   "source": [
    "!rm -rf data/corpus/msmarco_v2_doc.tar"
   ]
  },
  {
   "cell_type": "code",
   "execution_count": null,
   "metadata": {},
   "outputs": [],
   "source": [
    "!gunzip data/corpus/msmarco_v2_doc/*.gz"
   ]
  },
  {
   "cell_type": "markdown",
   "metadata": {},
   "source": [
    "__Download dev1 data__"
   ]
  },
  {
   "cell_type": "code",
   "execution_count": null,
   "metadata": {},
   "outputs": [],
   "source": [
    "!azcopy copy https://msmarco.blob.core.windows.net/msmarcoranking/docv2_dev_queries.tsv data/dev1/docv2_dev_queries.tsv "
   ]
  },
  {
   "cell_type": "code",
   "execution_count": null,
   "metadata": {},
   "outputs": [],
   "source": [
    "!azcopy copy https://msmarco.blob.core.windows.net/msmarcoranking/docv2_dev_qrels.tsv data/dev1/docv2_dev_qrels.tsv"
   ]
  },
  {
   "cell_type": "markdown",
   "metadata": {},
   "source": [
    "__Download train data__"
   ]
  },
  {
   "cell_type": "code",
   "execution_count": null,
   "metadata": {},
   "outputs": [],
   "source": [
    "!azcopy copy https://msmarco.blob.core.windows.net/msmarcoranking/docv2_train_queries.tsv data/train/docv2_train_queries.tsv "
   ]
  },
  {
   "cell_type": "code",
   "execution_count": null,
   "metadata": {},
   "outputs": [],
   "source": [
    "!azcopy copy https://msmarco.blob.core.windows.net/msmarcoranking/docv2_train_qrels.tsv data/train/docv2_train_qrels.tsv"
   ]
  },
  {
   "attachments": {},
   "cell_type": "markdown",
   "metadata": {},
   "source": [
    "__Download train data__"
   ]
  },
  {
   "cell_type": "code",
   "execution_count": null,
   "metadata": {},
   "outputs": [],
   "source": [
    "!azcopy copy https://msmarco.blob.core.windows.net/msmarcoranking/docv2_trec2020_qrels.txt.gz data/validation/docv2_trec2020_qrels.txt.gz"
   ]
  },
  {
   "cell_type": "code",
   "execution_count": 1,
   "metadata": {},
   "outputs": [],
   "source": [
    "!gunzip data/validation/docv2_trec2020_qrels.txt.gz"
   ]
  }
 ],
 "metadata": {
  "kernelspec": {
   "display_name": "Python 3 (ipykernel)",
   "language": "python",
   "name": "python3"
  },
  "language_info": {
   "codemirror_mode": {
    "name": "ipython",
    "version": 3
   },
   "file_extension": ".py",
   "mimetype": "text/x-python",
   "name": "python",
   "nbconvert_exporter": "python",
   "pygments_lexer": "ipython3",
   "version": "3.10.6"
  },
  "vscode": {
   "interpreter": {
    "hash": "31f2aee4e71d21fbe5cf8b01ff0e069b9275f58929596ceb00d14d90e3e16cd6"
   }
  }
 },
 "nbformat": 4,
 "nbformat_minor": 4
}
