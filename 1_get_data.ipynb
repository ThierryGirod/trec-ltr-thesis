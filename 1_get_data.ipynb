{
 "cells": [
  {
   "cell_type": "markdown",
   "metadata": {},
   "source": [
    "### __Requirements__\n",
    "-  ~200GB free disk space"
   ]
  },
  {
   "cell_type": "markdown",
   "metadata": {},
   "source": [
    "### __Download data from TREC__\n",
    "To download large files more quickly and reliably the use of [AzCopy](https://learn.microsoft.com/en-us/azure/storage/common/storage-use-azcopy-v10) is recommended.\n",
    "\n",
    "I used the installation guide under the following [link](https://www.thomasmaurer.ch/2019/05/how-to-install-azcopy-for-azure-storage/).\n",
    "\n",
    "__Download corpus__"
   ]
  },
  {
   "cell_type": "code",
   "execution_count": 6,
   "metadata": {},
   "outputs": [
    {
     "name": "stdout",
     "output_type": "stream",
     "text": [
      "--2022-11-03 13:07:36--  https://aka.ms/downloadazcopy-v10-linux\n",
      "Resolving aka.ms (aka.ms)... 92.122.38.31\n",
      "Connecting to aka.ms (aka.ms)|92.122.38.31|:443... connected.\n",
      "HTTP request sent, awaiting response... 301 Moved Permanently\n",
      "Location: https://azcopyvnext.azureedge.net/release20221005/azcopy_linux_amd64_10.16.1.tar.gz [following]\n",
      "--2022-11-03 13:07:37--  https://azcopyvnext.azureedge.net/release20221005/azcopy_linux_amd64_10.16.1.tar.gz\n",
      "Resolving azcopyvnext.azureedge.net (azcopyvnext.azureedge.net)... 23.10.249.170, 23.10.249.137, 2a02:26f0:3000::170a:f9aa, ...\n",
      "Connecting to azcopyvnext.azureedge.net (azcopyvnext.azureedge.net)|23.10.249.170|:443... connected.\n",
      "HTTP request sent, awaiting response... 200 OK\n",
      "Length: 12594248 (12M) [application/gzip]\n",
      "Saving to: ‘downloadazcopy-v10-linux.4’\n",
      "\n",
      "downloadazcopy-v10- 100%[===================>]  12.01M  --.-KB/s    in 0.09s   \n",
      "\n",
      "2022-11-03 13:07:37 (129 MB/s) - ‘downloadazcopy-v10-linux.4’ saved [12594248/12594248]\n",
      "\n",
      "azcopy_linux_amd64_10.16.1/\n",
      "azcopy_linux_amd64_10.16.1/azcopy\n",
      "azcopy_linux_amd64_10.16.1/NOTICE.txt\n"
     ]
    }
   ],
   "source": [
    "!wget https://aka.ms/downloadazcopy-v10-linux\n",
    "!tar -xvf downloadazcopy-v10-linux\n",
    "!sudo rm /usr/bin/azcopy\n",
    "!sudo cp ./azcopy_linux_amd64_*/azcopy /usr/bin/\n",
    "!sudo chmod 777 /usr/bin/azcopy"
   ]
  },
  {
   "cell_type": "code",
   "execution_count": null,
   "metadata": {},
   "outputs": [],
   "source": [
    "!azcopy copy https://msmarco.blob.core.windows.net/msmarcoranking/msmarco_v2_doc.tar data/corpus/msmarco_v2_doc.tar "
   ]
  },
  {
   "cell_type": "code",
   "execution_count": null,
   "metadata": {},
   "outputs": [],
   "source": [
    "!tar -xf data/corpus/msmarco_v2_doc.tar --directory data/corpus/"
   ]
  },
  {
   "cell_type": "code",
   "execution_count": null,
   "metadata": {},
   "outputs": [],
   "source": [
    "!rm -rf data/corpus/msmarco_v2_doc.tar"
   ]
  },
  {
   "cell_type": "code",
   "execution_count": null,
   "metadata": {},
   "outputs": [],
   "source": [
    "!gunzip data/corpus/msmarco_v2_doc/*.gz"
   ]
  },
  {
   "cell_type": "markdown",
   "metadata": {},
   "source": [
    "__Download dev1 data__"
   ]
  },
  {
   "cell_type": "code",
   "execution_count": 7,
   "metadata": {},
   "outputs": [
    {
     "name": "stdout",
     "output_type": "stream",
     "text": [
      "INFO: Scanning...\n",
      "INFO: Any empty folders will not be processed, because source and/or destination doesn't have full folder support\n",
      "\n",
      "Job c4f1b8c6-0d98-784b-7903-00a8ed27bcf5 has started\n",
      "Log file is located at: /home/ubuntu/.azcopy/c4f1b8c6-0d98-784b-7903-00a8ed27bcf5.log\n",
      "\n",
      "100.0 %, 1 Done, 0 Failed, 0 Pending, 0 Skipped, 1 Total, 2-sec Throughput (Mb/s): 0.7673\n",
      "\n",
      "\n",
      "Job c4f1b8c6-0d98-784b-7903-00a8ed27bcf5 summary\n",
      "Elapsed Time (Minutes): 0.0334\n",
      "Number of File Transfers: 1\n",
      "Number of Folder Property Transfers: 0\n",
      "Total Number of Transfers: 1\n",
      "Number of Transfers Completed: 1\n",
      "Number of Transfers Failed: 0\n",
      "Number of Transfers Skipped: 0\n",
      "TotalBytesTransferred: 191992\n",
      "Final Job Status: Completed\n",
      "\n"
     ]
    }
   ],
   "source": [
    "!azcopy copy https://msmarco.blob.core.windows.net/msmarcoranking/docv2_dev_queries.tsv data/dev1/docv2_dev_queries.tsv "
   ]
  },
  {
   "cell_type": "code",
   "execution_count": null,
   "metadata": {},
   "outputs": [],
   "source": [
    "!azcopy copy https://msmarco.blob.core.windows.net/msmarcoranking/docv2_dev_qrels.tsv data/dev1/docv2_dev_qrels.tsv"
   ]
  },
  {
   "cell_type": "markdown",
   "metadata": {},
   "source": [
    "__Download train data__"
   ]
  },
  {
   "cell_type": "code",
   "execution_count": null,
   "metadata": {},
   "outputs": [],
   "source": [
    "!azcopy copy https://msmarco.blob.core.windows.net/msmarcoranking/docv2_train_queries.tsv data/train/docv2_train_queries.tsv "
   ]
  },
  {
   "cell_type": "code",
   "execution_count": null,
   "metadata": {},
   "outputs": [],
   "source": [
    "!azcopy copy https://msmarco.blob.core.windows.net/msmarcoranking/docv2_train_qrels.tsv data/train/docv2_train_qrels.tsv"
   ]
  }
 ],
 "metadata": {
  "kernelspec": {
   "display_name": "Python 3.10.4 64-bit",
   "language": "python",
   "name": "python3"
  },
  "language_info": {
   "codemirror_mode": {
    "name": "ipython",
    "version": 3
   },
   "file_extension": ".py",
   "mimetype": "text/x-python",
   "name": "python",
   "nbconvert_exporter": "python",
   "pygments_lexer": "ipython3",
   "version": "3.10.4"
  },
  "orig_nbformat": 4,
  "vscode": {
   "interpreter": {
    "hash": "31f2aee4e71d21fbe5cf8b01ff0e069b9275f58929596ceb00d14d90e3e16cd6"
   }
  }
 },
 "nbformat": 4,
 "nbformat_minor": 2
}
