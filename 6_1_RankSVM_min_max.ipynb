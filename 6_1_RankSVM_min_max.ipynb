{
 "cells": [
  {
   "cell_type": "code",
   "execution_count": 15,
   "metadata": {},
   "outputs": [],
   "source": [
    "import numpy as np\n",
    "import json\n",
    "from ltr.data import CorpusApi"
   ]
  },
  {
   "cell_type": "code",
   "execution_count": 17,
   "metadata": {},
   "outputs": [],
   "source": [
    "from os import listdir\n",
    "from os.path import isfile, join\n",
    "def getJudgmentsBatchFileByFile():\n",
    "    \"\"\"\n",
    "    Returns a generator function that returns all the judgment batches files from the directory\n",
    "    \"\"\"\n",
    "    files = []\n",
    "   \n",
    "    files = [join('./loggedFeatures', file) for file in listdir('./loggedFeatures') if isfile(join('./loggedFeatures', file))]\n",
    "    for file in files:\n",
    "        yield file"
   ]
  },
  {
   "cell_type": "code",
   "execution_count": 18,
   "metadata": {},
   "outputs": [],
   "source": [
    "import csv\n",
    "judgments = []\n",
    "for file in getJudgmentsBatchFileByFile():\n",
    "  with open(file,'r') as f:\n",
    "    reader = csv.reader(f, delimiter=' ')\n",
    "    for row in reader:\n",
    "      data = []\n",
    "      for element in row:\n",
    "        data.append(element.replace(',', ''))\n",
    "      judgments.append(data)"
   ]
  },
  {
   "cell_type": "code",
   "execution_count": 19,
   "metadata": {},
   "outputs": [
    {
     "name": "stdout",
     "output_type": "stream",
     "text": [
      "['0', '10000', 'msmarco_doc_05_72507775', '1.0', '2.0', '8.0', '8.0', '0.083333336', '0.16666667', '0.6666667', '0.6666667', '1.0', '2.4142137', '36.53677', '36.764153', '90.677284', '72.23833', '41.410515', '41.410515', '7.282527', '10.645987', '84.99544', '85.76555', '1.655931', '1.747792', '5.9285426', '6.021519']\n",
      "['1', '10000', 'msmarco_doc_10_1691063043', '1.0', '8.0', '9.0', '9.0', '0.083333336', '0.6666667', '0.75', '0.75', '1.0', '11.69213', '55.452248', '56.990223', '90.677284', '72.23833', '41.410515', '41.410515', '7.7639008', '64.12446', '153.44191', '158.3429', '3.4576335', '13.961745', '14.04283', '14.179642']\n",
      "['1', '1000005', 'msmarco_doc_19_673141443', '2.0', '2.0', '4.0', '4.0', '0.5', '0.5', '1.0', '1.0', '2.0', '2.828427', '18.934044', '19.41233', '27.758165', '22.795256', '13.165058', '13.165058', '17.45566', '22.153984', '77.66603', '79.93644', '9.476915', '9.96361', '7.746788', '7.7889223']\n",
      "['0', '1000005', 'msmarco_doc_19_673231526', '1.0', '1.0', '2.0', '2.0', '0.25', '0.25', '0.5', '0.5', '1.0', '1.4142135', '8.70179', '8.973479', '27.758165', '22.795256', '13.165058', '13.165058', '10.839218', '13.648185', '38.889122', '40.672127', '6.04047', '6.534829', '5.3023043', '5.3333135']\n"
     ]
    }
   ],
   "source": [
    "judgments.sort(key = lambda judgments: judgments[1])\n",
    "print(judgments[0])\n",
    "print(judgments[1])\n",
    "print(judgments[2])\n",
    "print(judgments[3])"
   ]
  },
  {
   "cell_type": "code",
   "execution_count": 20,
   "metadata": {},
   "outputs": [
    {
     "name": "stdout",
     "output_type": "stream",
     "text": [
      "['0', '10000', '1.0', '2.0', '8.0', '8.0', '0.083333336', '0.16666667', '0.6666667', '0.6666667', '1.0', '2.4142137', '36.53677', '36.764153', '90.677284', '72.23833', '41.410515', '41.410515', '7.282527', '10.645987', '84.99544', '85.76555', '1.655931', '1.747792', '5.9285426', '6.021519']\n",
      "['1', '10000', '1.0', '8.0', '9.0', '9.0', '0.083333336', '0.6666667', '0.75', '0.75', '1.0', '11.69213', '55.452248', '56.990223', '90.677284', '72.23833', '41.410515', '41.410515', '7.7639008', '64.12446', '153.44191', '158.3429', '3.4576335', '13.961745', '14.04283', '14.179642']\n",
      "['1', '1000005', '2.0', '2.0', '4.0', '4.0', '0.5', '0.5', '1.0', '1.0', '2.0', '2.828427', '18.934044', '19.41233', '27.758165', '22.795256', '13.165058', '13.165058', '17.45566', '22.153984', '77.66603', '79.93644', '9.476915', '9.96361', '7.746788', '7.7889223']\n",
      "['0', '1000005', '1.0', '1.0', '2.0', '2.0', '0.25', '0.25', '0.5', '0.5', '1.0', '1.4142135', '8.70179', '8.973479', '27.758165', '22.795256', '13.165058', '13.165058', '10.839218', '13.648185', '38.889122', '40.672127', '6.04047', '6.534829', '5.3023043', '5.3333135']\n",
      "['1', '1000005', '2.0', '2.0', '3.0', '3.0', '0.5', '0.5', '0.75', '0.75', '2.0', '7.8929224', '22.769188', '24.567732', '27.758165', '22.795256', '13.165058', '13.165058', '17.45566', '68.04159', '103.90141', '114.40033', '4.07918', '10.506668', '7.384706', '7.5171304']\n",
      "['0', '1000005', '0.0', '0.0', '1.0', '1.0', '0.0', '0.0', '0.25', '0.25', '0.0', '0.0', '4.1231055', '4.1231055', '27.758165', '22.795256', '13.165058', '13.165058', '0.0', '0.0', '4.4108863', '4.410886', '0.0', '0.0', '0.0', '0.0']\n",
      "['0', '1000007', '1.0', '1.0', '3.0', '3.0', '0.25', '0.25', '0.75', '0.75', '1.0', '1.4142135', '13.934044', '14.120829', '29.15374', '24.19186', '14.106765', '14.106753', '10.839218', '13.648185', '59.74831', '60.974113', '6.04047', '6.3175864', '5.3736296', '5.388391']\n",
      "['1', '1000007', '1.0', '1.0', '2.0', '2.0', '0.25', '0.25', '0.5', '0.5', '1.0', '1.4142135', '8.70179', '8.973479', '29.15374', '24.19186', '14.106765', '14.106753', '10.839218', '13.648185', '38.889122', '40.672127', '6.04047', '6.534829', '5.3023043', '5.3333135']\n"
     ]
    }
   ],
   "source": [
    "for j in judgments:\n",
    "  del j[2]\n",
    "\n",
    "print(judgments[0])\n",
    "print(judgments[1])\n",
    "print(judgments[2])\n",
    "print(judgments[3])\n",
    "print(judgments[4])\n",
    "print(judgments[5])\n",
    "print(judgments[6])\n",
    "print(judgments[7])"
   ]
  },
  {
   "cell_type": "code",
   "execution_count": 21,
   "metadata": {},
   "outputs": [],
   "source": [
    "def normalizeFeatures(loggedJudgments):\n",
    "    minimums = [100 for _ in loggedJudgments[0][2:]]\n",
    "    maximums = [0 for _ in loggedJudgments[0][2:]]\n",
    "    \n",
    "    for judgment in loggedJudgments:\n",
    "        for idx, feature in enumerate(judgment[2:]):\n",
    "            if minimums[idx] > float(feature):\n",
    "                minimums[idx] = float(feature)\n",
    "            \n",
    "            if maximums[idx] < float(feature):\n",
    "                maximums[idx] = float(feature)\n",
    "    \n",
    "    \n",
    "        \n",
    "    normedJudgments = []\n",
    "    for judgment in loggedJudgments:\n",
    "        normedFeatures = [0 for _ in judgment[2:]]\n",
    "        for idx, feature in enumerate(judgment[2:]):\n",
    "            normedFeatures[idx] = (float(feature) - minimums[idx]) / (maximums[idx] - minimums[idx])\n",
    "        normedJudgment = judgment[:2]\n",
    "        normedJudgment.extend(normedFeatures)\n",
    "        normedJudgments.append(normedJudgment)\n",
    "    \n",
    "    return minimums, maximums, normedJudgments"
   ]
  },
  {
   "cell_type": "code",
   "execution_count": 22,
   "metadata": {},
   "outputs": [],
   "source": [
    "minimums, maximums, normalizedJudgments = normalizeFeatures(judgments)"
   ]
  },
  {
   "cell_type": "code",
   "execution_count": 23,
   "metadata": {},
   "outputs": [
    {
     "name": "stdout",
     "output_type": "stream",
     "text": [
      "File written: ./submission/ranksvm/data/minMaxNormalizedFeatures.csv\n"
     ]
    }
   ],
   "source": [
    "CorpusApi.saveListAsFile('./submission/ranksvm/data/minMaxNormalizedFeatures.csv', normalizedJudgments)"
   ]
  },
  {
   "cell_type": "code",
   "execution_count": 24,
   "metadata": {},
   "outputs": [],
   "source": [
    "from itertools import groupby\n",
    "\n",
    "def pairwiseTransformation(normalizedJudgments):\n",
    "    \n",
    "    predictorDeltas = []\n",
    "    featureDeltas = []\n",
    "    \n",
    "    for qid, queryJudgments in groupby(normalizedJudgments, key=lambda j: j[1]):\n",
    "    \n",
    "        queryJudgmentsCopy1 = list(queryJudgments)\n",
    "        queryJudgmentsCopy2 = list(queryJudgmentsCopy1)\n",
    "        \n",
    "        # Examine every judgment combo for this query, \n",
    "        # if they're different, store the pairwise difference:\n",
    "        # +1 if judgment1 more relevant\n",
    "        # -1 if judgment2 more relevant\n",
    "        for judgment1 in queryJudgmentsCopy1:\n",
    "            \n",
    "            for judgment2 in queryJudgmentsCopy2:\n",
    "                \n",
    "                j1_features=np.array(judgment1[2:])\n",
    "                j2_features=np.array(judgment2[2:])\n",
    "                \n",
    "                if int(judgment1[0]) > int(judgment2[0]):\n",
    "                    predictorDeltas.append(+1)\n",
    "                    featureDeltas.append(j1_features-j2_features)\n",
    "                    \n",
    "                elif int(judgment1[0]) < int(judgment2[0]):\n",
    "                    predictorDeltas.append(-1)\n",
    "                    featureDeltas.append(j1_features-j2_features)\n",
    "                    \n",
    "    # For training purposes, we return these as numpy arrays\n",
    "    return np.array(featureDeltas), np.array(predictorDeltas)\n",
    "        \n",
    "        "
   ]
  },
  {
   "cell_type": "code",
   "execution_count": 25,
   "metadata": {},
   "outputs": [],
   "source": [
    "featureDeltas, predictorDeltas = pairwiseTransformation(normalizedJudgments)"
   ]
  },
  {
   "cell_type": "code",
   "execution_count": 26,
   "metadata": {},
   "outputs": [],
   "source": [
    "from sklearn.model_selection import train_test_split\n",
    "\n",
    "featureDeltas_train, featureDeltas_test, predictorDeltas_train, predictorDeltas_test = train_test_split(\n",
    "    featureDeltas, predictorDeltas, test_size=0.2, shuffle=False)"
   ]
  },
  {
   "cell_type": "code",
   "execution_count": 27,
   "metadata": {},
   "outputs": [
    {
     "name": "stdout",
     "output_type": "stream",
     "text": [
      "File written: ./submission/ranksvm/data/minMaxNormalizedFeatures_featureDeltasTrain.csv\n",
      "File written: ./submission/ranksvm/data/minMaxNormalizedFeatures_featureDeltasTest.csv\n",
      "File written: ./submission/ranksvm/data/minMaxNormalizedFeatures_predictorDeltasTrain.csv\n",
      "File written: ./submission/ranksvm/data/minMaxNormalizedFeatures_predictorDeltasTest.csv\n"
     ]
    }
   ],
   "source": [
    "CorpusApi.saveListAsFile('./submission/ranksvm/data/minMaxNormalizedFeatures_featureDeltasTrain.csv', featureDeltas_train)\n",
    "CorpusApi.saveListAsFile('./submission/ranksvm/data/minMaxNormalizedFeatures_featureDeltasTest.csv', featureDeltas_test)\n",
    "\n",
    "CorpusApi.saveListAsFile('./submission/ranksvm/data/minMaxNormalizedFeatures_predictorDeltasTrain.csv', predictorDeltas_train)\n",
    "CorpusApi.saveListAsFile('./submission/ranksvm/data/minMaxNormalizedFeatures_predictorDeltasTest.csv', predictorDeltas_test)"
   ]
  },
  {
   "cell_type": "code",
   "execution_count": 62,
   "metadata": {},
   "outputs": [
    {
     "name": "stdout",
     "output_type": "stream",
     "text": [
      "[LibLinear]..............................................................................................................................................................................................................................................................................................................................................................................................................................................................................................................................................................................................................................................................................................................................................................................................................................................................................................................................................................................................................*...*.*..*.*.**.**.**\n",
      "optimization finished, #iter = 9847\n",
      "Objective value = -1383583.019064\n",
      "nSV = 22862\n"
     ]
    },
    {
     "data": {
      "text/html": [
       "<style>#sk-container-id-10 {color: black;background-color: white;}#sk-container-id-10 pre{padding: 0;}#sk-container-id-10 div.sk-toggleable {background-color: white;}#sk-container-id-10 label.sk-toggleable__label {cursor: pointer;display: block;width: 100%;margin-bottom: 0;padding: 0.3em;box-sizing: border-box;text-align: center;}#sk-container-id-10 label.sk-toggleable__label-arrow:before {content: \"▸\";float: left;margin-right: 0.25em;color: #696969;}#sk-container-id-10 label.sk-toggleable__label-arrow:hover:before {color: black;}#sk-container-id-10 div.sk-estimator:hover label.sk-toggleable__label-arrow:before {color: black;}#sk-container-id-10 div.sk-toggleable__content {max-height: 0;max-width: 0;overflow: hidden;text-align: left;background-color: #f0f8ff;}#sk-container-id-10 div.sk-toggleable__content pre {margin: 0.2em;color: black;border-radius: 0.25em;background-color: #f0f8ff;}#sk-container-id-10 input.sk-toggleable__control:checked~div.sk-toggleable__content {max-height: 200px;max-width: 100%;overflow: auto;}#sk-container-id-10 input.sk-toggleable__control:checked~label.sk-toggleable__label-arrow:before {content: \"▾\";}#sk-container-id-10 div.sk-estimator input.sk-toggleable__control:checked~label.sk-toggleable__label {background-color: #d4ebff;}#sk-container-id-10 div.sk-label input.sk-toggleable__control:checked~label.sk-toggleable__label {background-color: #d4ebff;}#sk-container-id-10 input.sk-hidden--visually {border: 0;clip: rect(1px 1px 1px 1px);clip: rect(1px, 1px, 1px, 1px);height: 1px;margin: -1px;overflow: hidden;padding: 0;position: absolute;width: 1px;}#sk-container-id-10 div.sk-estimator {font-family: monospace;background-color: #f0f8ff;border: 1px dotted black;border-radius: 0.25em;box-sizing: border-box;margin-bottom: 0.5em;}#sk-container-id-10 div.sk-estimator:hover {background-color: #d4ebff;}#sk-container-id-10 div.sk-parallel-item::after {content: \"\";width: 100%;border-bottom: 1px solid gray;flex-grow: 1;}#sk-container-id-10 div.sk-label:hover label.sk-toggleable__label {background-color: #d4ebff;}#sk-container-id-10 div.sk-serial::before {content: \"\";position: absolute;border-left: 1px solid gray;box-sizing: border-box;top: 0;bottom: 0;left: 50%;z-index: 0;}#sk-container-id-10 div.sk-serial {display: flex;flex-direction: column;align-items: center;background-color: white;padding-right: 0.2em;padding-left: 0.2em;position: relative;}#sk-container-id-10 div.sk-item {position: relative;z-index: 1;}#sk-container-id-10 div.sk-parallel {display: flex;align-items: stretch;justify-content: center;background-color: white;position: relative;}#sk-container-id-10 div.sk-item::before, #sk-container-id-10 div.sk-parallel-item::before {content: \"\";position: absolute;border-left: 1px solid gray;box-sizing: border-box;top: 0;bottom: 0;left: 50%;z-index: -1;}#sk-container-id-10 div.sk-parallel-item {display: flex;flex-direction: column;z-index: 1;position: relative;background-color: white;}#sk-container-id-10 div.sk-parallel-item:first-child::after {align-self: flex-end;width: 50%;}#sk-container-id-10 div.sk-parallel-item:last-child::after {align-self: flex-start;width: 50%;}#sk-container-id-10 div.sk-parallel-item:only-child::after {width: 0;}#sk-container-id-10 div.sk-dashed-wrapped {border: 1px dashed gray;margin: 0 0.4em 0.5em 0.4em;box-sizing: border-box;padding-bottom: 0.4em;background-color: white;}#sk-container-id-10 div.sk-label label {font-family: monospace;font-weight: bold;display: inline-block;line-height: 1.2em;}#sk-container-id-10 div.sk-label-container {text-align: center;}#sk-container-id-10 div.sk-container {/* jupyter's `normalize.less` sets `[hidden] { display: none; }` but bootstrap.min.css set `[hidden] { display: none !important; }` so we also need the `!important` here to be able to override the default hidden behavior on the sphinx rendered scikit-learn.org. See: https://github.com/scikit-learn/scikit-learn/issues/21755 */display: inline-block !important;position: relative;}#sk-container-id-10 div.sk-text-repr-fallback {display: none;}</style><div id=\"sk-container-id-10\" class=\"sk-top-container\"><div class=\"sk-text-repr-fallback\"><pre>LinearSVC(C=100, max_iter=1000000000, verbose=1)</pre><b>In a Jupyter environment, please rerun this cell to show the HTML representation or trust the notebook. <br />On GitHub, the HTML representation is unable to render, please try loading this page with nbviewer.org.</b></div><div class=\"sk-container\" hidden><div class=\"sk-item\"><div class=\"sk-estimator sk-toggleable\"><input class=\"sk-toggleable__control sk-hidden--visually\" id=\"sk-estimator-id-10\" type=\"checkbox\" checked><label for=\"sk-estimator-id-10\" class=\"sk-toggleable__label sk-toggleable__label-arrow\">LinearSVC</label><div class=\"sk-toggleable__content\"><pre>LinearSVC(C=100, max_iter=1000000000, verbose=1)</pre></div></div></div></div></div>"
      ],
      "text/plain": [
       "LinearSVC(C=100, max_iter=1000000000, verbose=1)"
      ]
     },
     "execution_count": 62,
     "metadata": {},
     "output_type": "execute_result"
    }
   ],
   "source": [
    "from sklearn import svm\n",
    "model = svm.LinearSVC(max_iter=1000000000, verbose=1, C=100, penalty=\"l2\", loss='squared_hinge')\n",
    "model.fit(featureDeltas_train, predictorDeltas_train)\n"
   ]
  },
  {
   "attachments": {},
   "cell_type": "markdown",
   "metadata": {},
   "source": [
    "# Validation should be here"
   ]
  },
  {
   "cell_type": "code",
   "execution_count": 64,
   "metadata": {},
   "outputs": [
    {
     "data": {
      "text/plain": [
       "0.9522700814901047"
      ]
     },
     "execution_count": 64,
     "metadata": {},
     "output_type": "execute_result"
    }
   ],
   "source": [
    "model.score(featureDeltas_test, predictorDeltas_test)"
   ]
  },
  {
   "attachments": {},
   "cell_type": "markdown",
   "metadata": {},
   "source": [
    "# Solr model implementation"
   ]
  },
  {
   "cell_type": "code",
   "execution_count": 65,
   "metadata": {},
   "outputs": [
    {
     "name": "stdout",
     "output_type": "stream",
     "text": [
      "{\n",
      "  \"store\": \"thesis-ltr\",\n",
      "  \"class\": \"org.apache.solr.ltr.model.LinearModel\",\n",
      "  \"name\": \"ranksvm-100-squared_hinge\",\n",
      "  \"features\": [\n",
      "    {\n",
      "      \"name\": \"title_coveredQueryTerms\",\n",
      "      \"norm\": {\n",
      "        \"class\": \"org.apache.solr.ltr.norm.MinMaxNormalizer\",\n",
      "        \"params\": {\n",
      "          \"min\": \"0.0\",\n",
      "          \"max\": \"22.0\"\n",
      "        }\n",
      "      }\n",
      "    },\n",
      "    {\n",
      "      \"name\": \"headings_coveredQueryTerms\",\n",
      "      \"norm\": {\n",
      "        \"class\": \"org.apache.solr.ltr.norm.MinMaxNormalizer\",\n",
      "        \"params\": {\n",
      "          \"min\": \"0.0\",\n",
      "          \"max\": \"31.0\"\n",
      "        }\n",
      "      }\n",
      "    },\n",
      "    {\n",
      "      \"name\": \"body_coveredQueryTerms\",\n",
      "      \"norm\": {\n",
      "        \"class\": \"org.apache.solr.ltr.norm.MinMaxNormalizer\",\n",
      "        \"params\": {\n",
      "          \"min\": \"0.0\",\n",
      "          \"max\": \"34.0\"\n",
      "        }\n",
      "      }\n",
      "    },\n",
      "    {\n",
      "      \"name\": \"document_coveredQueryTerms\",\n",
      "      \"norm\": {\n",
      "        \"class\": \"org.apache.solr.ltr.norm.MinMaxNormalizer\",\n",
      "        \"params\": {\n",
      "          \"min\": \"0.0\",\n",
      "          \"max\": \"34.0\"\n",
      "        }\n",
      "      }\n",
      "    },\n",
      "    {\n",
      "      \"name\": \"title_coveredQueryTermsRatio\",\n",
      "      \"norm\": {\n",
      "        \"class\": \"org.apache.solr.ltr.norm.MinMaxNormalizer\",\n",
      "        \"params\": {\n",
      "          \"min\": \"0.0\",\n",
      "          \"max\": \"1.0\"\n",
      "        }\n",
      "      }\n",
      "    },\n",
      "    {\n",
      "      \"name\": \"headings_coveredQueryTermsRatio\",\n",
      "      \"norm\": {\n",
      "        \"class\": \"org.apache.solr.ltr.norm.MinMaxNormalizer\",\n",
      "        \"params\": {\n",
      "          \"min\": \"0.0\",\n",
      "          \"max\": \"1.0\"\n",
      "        }\n",
      "      }\n",
      "    },\n",
      "    {\n",
      "      \"name\": \"body_coveredQueryTermsRatio\",\n",
      "      \"norm\": {\n",
      "        \"class\": \"org.apache.solr.ltr.norm.MinMaxNormalizer\",\n",
      "        \"params\": {\n",
      "          \"min\": \"0.0\",\n",
      "          \"max\": \"1.0\"\n",
      "        }\n",
      "      }\n",
      "    },\n",
      "    {\n",
      "      \"name\": \"document_coveredQueryTermsRatio\",\n",
      "      \"norm\": {\n",
      "        \"class\": \"org.apache.solr.ltr.norm.MinMaxNormalizer\",\n",
      "        \"params\": {\n",
      "          \"min\": \"0.0\",\n",
      "          \"max\": \"1.0\"\n",
      "        }\n",
      "      }\n",
      "    },\n",
      "    {\n",
      "      \"name\": \"title_tf\",\n",
      "      \"norm\": {\n",
      "        \"class\": \"org.apache.solr.ltr.norm.MinMaxNormalizer\",\n",
      "        \"params\": {\n",
      "          \"min\": \"0.0\",\n",
      "          \"max\": \"25.217281\"\n",
      "        }\n",
      "      }\n",
      "    },\n",
      "    {\n",
      "      \"name\": \"headings_tf\",\n",
      "      \"norm\": {\n",
      "        \"class\": \"org.apache.solr.ltr.norm.MinMaxNormalizer\",\n",
      "        \"params\": {\n",
      "          \"min\": \"0.0\",\n",
      "          \"max\": \"71.3568\"\n",
      "        }\n",
      "      }\n",
      "    },\n",
      "    {\n",
      "      \"name\": \"body_tf\",\n",
      "      \"norm\": {\n",
      "        \"class\": \"org.apache.solr.ltr.norm.MinMaxNormalizer\",\n",
      "        \"params\": {\n",
      "          \"min\": \"0.0\",\n",
      "          \"max\": \"529.04224\"\n",
      "        }\n",
      "      }\n",
      "    },\n",
      "    {\n",
      "      \"name\": \"document_tf\",\n",
      "      \"norm\": {\n",
      "        \"class\": \"org.apache.solr.ltr.norm.MinMaxNormalizer\",\n",
      "        \"params\": {\n",
      "          \"min\": \"0.0\",\n",
      "          \"max\": \"530.54956\"\n",
      "        }\n",
      "      }\n",
      "    },\n",
      "    {\n",
      "      \"name\": \"title_idf\",\n",
      "      \"norm\": {\n",
      "        \"class\": \"org.apache.solr.ltr.norm.MinMaxNormalizer\",\n",
      "        \"params\": {\n",
      "          \"min\": \"8.369181\",\n",
      "          \"max\": \"238.08615\"\n",
      "        }\n",
      "      }\n",
      "    },\n",
      "    {\n",
      "      \"name\": \"headings_idf\",\n",
      "      \"norm\": {\n",
      "        \"class\": \"org.apache.solr.ltr.norm.MinMaxNormalizer\",\n",
      "        \"params\": {\n",
      "          \"min\": \"6.34288\",\n",
      "          \"max\": \"189.11295\"\n",
      "        }\n",
      "      }\n",
      "    },\n",
      "    {\n",
      "      \"name\": \"body_idf\",\n",
      "      \"norm\": {\n",
      "        \"class\": \"org.apache.solr.ltr.norm.MinMaxNormalizer\",\n",
      "        \"params\": {\n",
      "          \"min\": \"2.5495176\",\n",
      "          \"max\": \"123.85025\"\n",
      "        }\n",
      "      }\n",
      "    },\n",
      "    {\n",
      "      \"name\": \"document_idf\",\n",
      "      \"norm\": {\n",
      "        \"class\": \"org.apache.solr.ltr.norm.MinMaxNormalizer\",\n",
      "        \"params\": {\n",
      "          \"min\": \"2.5495176\",\n",
      "          \"max\": \"123.85024\"\n",
      "        }\n",
      "      }\n",
      "    },\n",
      "    {\n",
      "      \"name\": \"title_tfidf\",\n",
      "      \"norm\": {\n",
      "        \"class\": \"org.apache.solr.ltr.norm.MinMaxNormalizer\",\n",
      "        \"params\": {\n",
      "          \"min\": \"0.0\",\n",
      "          \"max\": \"176.37538\"\n",
      "        }\n",
      "      }\n",
      "    },\n",
      "    {\n",
      "      \"name\": \"headings_tfidf\",\n",
      "      \"norm\": {\n",
      "        \"class\": \"org.apache.solr.ltr.norm.MinMaxNormalizer\",\n",
      "        \"params\": {\n",
      "          \"min\": \"0.0\",\n",
      "          \"max\": \"354.528\"\n",
      "        }\n",
      "      }\n",
      "    },\n",
      "    {\n",
      "      \"name\": \"body_tfidf\",\n",
      "      \"norm\": {\n",
      "        \"class\": \"org.apache.solr.ltr.norm.MinMaxNormalizer\",\n",
      "        \"params\": {\n",
      "          \"min\": \"0.0\",\n",
      "          \"max\": \"2197.0798\"\n",
      "        }\n",
      "      }\n",
      "    },\n",
      "    {\n",
      "      \"name\": \"document_tfidf\",\n",
      "      \"norm\": {\n",
      "        \"class\": \"org.apache.solr.ltr.norm.MinMaxNormalizer\",\n",
      "        \"params\": {\n",
      "          \"min\": \"0.0\",\n",
      "          \"max\": \"2197.0798\"\n",
      "        }\n",
      "      }\n",
      "    },\n",
      "    {\n",
      "      \"name\": \"title_bm25\",\n",
      "      \"norm\": {\n",
      "        \"class\": \"org.apache.solr.ltr.norm.MinMaxNormalizer\",\n",
      "        \"params\": {\n",
      "          \"min\": \"0.0\",\n",
      "          \"max\": \"38.983177\"\n",
      "        }\n",
      "      }\n",
      "    },\n",
      "    {\n",
      "      \"name\": \"headings_bm25\",\n",
      "      \"norm\": {\n",
      "        \"class\": \"org.apache.solr.ltr.norm.MinMaxNormalizer\",\n",
      "        \"params\": {\n",
      "          \"min\": \"0.0\",\n",
      "          \"max\": \"68.29706\"\n",
      "        }\n",
      "      }\n",
      "    },\n",
      "    {\n",
      "      \"name\": \"body_bm25\",\n",
      "      \"norm\": {\n",
      "        \"class\": \"org.apache.solr.ltr.norm.MinMaxNormalizer\",\n",
      "        \"params\": {\n",
      "          \"min\": \"0.0\",\n",
      "          \"max\": \"57.78668\"\n",
      "        }\n",
      "      }\n",
      "    },\n",
      "    {\n",
      "      \"name\": \"document_bm25\",\n",
      "      \"norm\": {\n",
      "        \"class\": \"org.apache.solr.ltr.norm.MinMaxNormalizer\",\n",
      "        \"params\": {\n",
      "          \"min\": \"0.0\",\n",
      "          \"max\": \"63.318443\"\n",
      "        }\n",
      "      }\n",
      "    }\n",
      "  ],\n",
      "  \"params\": {\n",
      "    \"weights\": {\n",
      "      \"title_coveredQueryTerms\": -1.463459026308794,\n",
      "      \"headings_coveredQueryTerms\": 0.22471552271476372,\n",
      "      \"body_coveredQueryTerms\": -3.3110951641087567,\n",
      "      \"document_coveredQueryTerms\": -3.3110951641087567,\n",
      "      \"title_coveredQueryTermsRatio\": 0.25854042646965014,\n",
      "      \"headings_coveredQueryTermsRatio\": 0.09470746249963269,\n",
      "      \"body_coveredQueryTermsRatio\": 0.16387090898792922,\n",
      "      \"document_coveredQueryTermsRatio\": 0.16387090898792922,\n",
      "      \"title_tf\": -0.3169327453433607,\n",
      "      \"headings_tf\": 0.13080009332416662,\n",
      "      \"body_tf\": 1.1889102207033293,\n",
      "      \"document_tf\": -3.6729934260935373,\n",
      "      \"title_idf\": 0.0,\n",
      "      \"headings_idf\": 0.0,\n",
      "      \"body_idf\": 0.0,\n",
      "      \"document_idf\": 0.0,\n",
      "      \"title_tfidf\": 1.746186195103289,\n",
      "      \"headings_tfidf\": -0.1350625412574793,\n",
      "      \"body_tfidf\": 33.05931763778597,\n",
      "      \"document_tfidf\": -25.677055154519813,\n",
      "      \"title_bm25\": 1.2333045802624851,\n",
      "      \"headings_bm25\": -0.16653447749560338,\n",
      "      \"body_bm25\": 4.304548990045059,\n",
      "      \"document_bm25\": 10.202448628061617\n",
      "    }\n",
      "  }\n",
      "}\n",
      "Delete\n",
      "Add new model\n"
     ]
    },
    {
     "data": {
      "text/plain": [
       "{'responseHeader': {'status': 0, 'QTime': 621}}"
      ]
     },
     "execution_count": 65,
     "metadata": {},
     "output_type": "execute_result"
    }
   ],
   "source": [
    "import math\n",
    "import requests\n",
    "import json\n",
    "\n",
    "modelName = 'ranksvm-100-squared_hinge'\n",
    "linearModel = {\n",
    "  \"store\": \"thesis-ltr\",\n",
    "  \"class\": \"org.apache.solr.ltr.model.LinearModel\",\n",
    "  \"name\": modelName,\n",
    "  \"features\": [\n",
    "  ],\n",
    "  \"params\": {\n",
    "      \"weights\": {\n",
    "      }\n",
    "  }\n",
    "}\n",
    "\n",
    "featureNames = [\"title_coveredQueryTerms\",\n",
    "    \"headings_coveredQueryTerms\",\n",
    "    \"body_coveredQueryTerms\",\n",
    "    \"document_coveredQueryTerms\",\n",
    "    \"title_coveredQueryTermsRatio\",\n",
    "    \"headings_coveredQueryTermsRatio\",\n",
    "    \"body_coveredQueryTermsRatio\",\n",
    "    \"document_coveredQueryTermsRatio\",\n",
    "    \"title_tf\",\n",
    "    \"headings_tf\",\n",
    "    \"body_tf\",\n",
    "    \"document_tf\",\n",
    "    \"title_idf\",\n",
    "    \"headings_idf\",\n",
    "    \"body_idf\",\n",
    "    \"document_idf\",\n",
    "    \"title_tfidf\",\n",
    "    \"headings_tfidf\",\n",
    "    \"body_tfidf\",\n",
    "    \"document_tfidf\",\n",
    "    \"title_bm25\",\n",
    "    \"headings_bm25\",\n",
    "    \"body_bm25\",\n",
    "    \"document_bm25\"\n",
    "]\n",
    "\n",
    "for idx, featureName in enumerate(featureNames):\n",
    "    config = {\n",
    "        \"name\": featureName,\n",
    "        \"norm\": {\n",
    "            \"class\": \"org.apache.solr.ltr.norm.MinMaxNormalizer\",\n",
    "            \"params\": {\n",
    "                \"min\": str(minimums[idx]),\n",
    "                \"max\": str(maximums[idx])\n",
    "            }\n",
    "        }\n",
    "    }\n",
    "    linearModel['features'].append(config)\n",
    "    linearModel['params']['weights'][featureName] =  model.coef_[0][idx] \n",
    "\n",
    "print(json.dumps(linearModel, indent=2))\n",
    "\n",
    "# Upload the model after deleting the model\n",
    "print('Delete')\n",
    "requests.delete(f'http://localhost:8983/solr/thesis-ltr/schema/model-store/{modelName}').json()\n",
    "print('Add new model')\n",
    "requests.put(f'http://localhost:8983/solr/thesis-ltr/schema/model-store', json=linearModel).json()"
   ]
  },
  {
   "cell_type": "code",
   "execution_count": 66,
   "metadata": {},
   "outputs": [],
   "source": [
    "# Writing to sample.json\n",
    "with open(f'./submission/ranksvm/solrModels/{modelName}.json', \"w\") as jsonFile:\n",
    "    json.dump(linearModel, jsonFile, indent=4)"
   ]
  }
 ],
 "metadata": {
  "kernelspec": {
   "display_name": "Python 3",
   "language": "python",
   "name": "python3"
  },
  "language_info": {
   "codemirror_mode": {
    "name": "ipython",
    "version": 3
   },
   "file_extension": ".py",
   "mimetype": "text/x-python",
   "name": "python",
   "nbconvert_exporter": "python",
   "pygments_lexer": "ipython3",
   "version": "3.10.6"
  },
  "orig_nbformat": 4,
  "vscode": {
   "interpreter": {
    "hash": "31f2aee4e71d21fbe5cf8b01ff0e069b9275f58929596ceb00d14d90e3e16cd6"
   }
  }
 },
 "nbformat": 4,
 "nbformat_minor": 2
}
